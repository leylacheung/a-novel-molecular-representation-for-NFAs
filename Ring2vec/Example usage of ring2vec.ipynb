{
 "cells": [
  {
   "cell_type": "markdown",
   "metadata": {},
   "source": [
    "The notebooks illustrates how Ring2vec can be used to featurize  molecules \n",
    "* [Featurize the molecules using pre-trained Ring2vec model](#Featurize-the-molecules-using-pre-trained-ring2vec-model)\n"
   ]
  },
  {
   "cell_type": "code",
   "execution_count": null,
   "metadata": {},
   "outputs": [],
   "source": [
    "import numpy as np\n",
    "import pandas as pd\n",
    "\n",
    "def clean_smiles_and_save(input_csv, output_csv):\n",
    "    # load data\n",
    "    df = pd.read_csv(input_csv)\n",
    "    \n",
    "    # Attempt to convert SMILES to molecule objects\n",
    "    df['Mol'] = df['SMILES'].apply(Chem.MolFromSmiles)\n",
    "    \n",
    "    # Remove rows with failed conversion (invalid molecules)\n",
    "    df = df[df['Mol'].notnull()]\n",
    "    \n",
    "    # Delete the 'Mol' column, as it cannot be correctly saved to a CSV file\n",
    "    df.drop(columns=['Mol'], inplace=True)\n",
    "    \n",
    "    # Save the processed data to a new CSV file\n",
    "    df.to_csv(output_csv, index=False)\n",
    "    \n",
    "    print(f\"The cleaned data has been saved to {output_csv}\")\n",
    "\n"
   ]
  },
  {
   "cell_type": "code",
   "execution_count": null,
   "metadata": {},
   "outputs": [],
   "source": [
    "# Remove duplicate data\n"
   ]
  },
  {
   "cell_type": "code",
   "execution_count": 9,
   "metadata": {
    "collapsed": true
   },
   "outputs": [],
   "source": [
    "# % matplotlib inline\n",
    "import numpy as np\n",
    "import pandas as pd\n",
    "import sys, os\n",
    "# Add the ring2vec directory to the system path.\n",
    "sys.path.append(os.path.dirname(os.path.dirname(os.getcwd()))+'/ring2vec')\n",
    "from rdkit import Chem\n",
    "from rdkit.Chem import PandasTools\n",
    "from rdkit.Chem.Draw import IPythonConsole\n",
    "from Ringfeature import *\n",
    "from gensim.models import word2vec\n",
    "\n",
    "df = pd.read_csv('data/NFAs_cleaned.csv')\n",
    "df.columns = df.columns.str.strip()\n",
    "\n",
    "model = word2vec.Word2Vec.load('models/pretmodelskip4_100dim.pkl')\n",
    "\n",
    "df['Mol'] = df['SMILES'].apply(Chem.MolFromSmiles)\n",
    "\n",
    "df = df.dropna(subset=['Mol'])\n",
    "\n",
    "df['Sentence'] = df['Mol'].apply(ring2alt_sentence)  \n",
    "\n",
    "# sentences = [sentence.split() for sentence in df['Sentence'].astype(str)]\n",
    "sentences = [sentence for sentence in df['Sentence'] if sentence]\n",
    "\n",
    "df['ring2vec'] = [DfVec(x) for x in sentences2vec(sentences, model)]\n",
    "\n",
    "df['Features'] = df['ring2vec'].apply(lambda x: ','.join(map(str, x.vec)))\n",
    "\n",
    "df_to_save = df[['SMILES', 'Features', 'HOMO', 'LUMO', 'bandgap']]\n",
    "df_to_save.to_csv('data/NFAs_prering2alt.csv', index=False)\n"
   ]
  },
  {
   "cell_type": "code",
   "execution_count": null,
   "metadata": {},
   "outputs": [],
   "source": [
    "# test\n",
    "# % matplotlib inline\n",
    "import numpy as np\n",
    "import pandas as pd\n",
    "import sys, os\n",
    "# Add the ring2vec directory to the system path.\n",
    "sys.path.append(os.path.dirname(os.path.dirname(os.getcwd()))+'/ring2vec')\n",
    "from rdkit import Chem\n",
    "from rdkit.Chem import PandasTools\n",
    "from rdkit.Chem.Draw import IPythonConsole\n",
    "from Ringfeature import ring2alt_sentence, MolSentence, DfVec, sentences2vec\n",
    "from gensim.models import word2vec\n",
    "\n",
    "df = pd.read_csv('data/NFAs_cleaned.csv')\n",
    "\n",
    "model = word2vec.Word2Vec.load('models/modelskip4_100dim.pkl')\n",
    "\n",
    "PandasTools.AddMoleculeColumnToFrame(df, 'SMILES', 'ROMol')\n",
    " \n",
    "df['Mol'] = df['SMILES'].apply(Chem.MolFromSmiles)\n",
    "\n",
    "df = df.dropna(subset=['Mol'])\n",
    "\n",
    "df['Sentence'] = df['Mol'].apply(ring2alt_sentence)\n",
    "\n",
    "print(df['Sentence'].head())\n",
    "\n",
    "df['sentence'] = df.apply(lambda x: MolSentence(ring2alt_sentence(x['ROMol'])), axis=1)\n",
    "\n",
    "sentences = [sentence for sentence in df['Sentence'] if sentence]\n",
    "\n",
    "print(sentences[:5])\n",
    "\n",
    "df['ring2vec'] = [DfVec(x) for x in sentences2vec(sentences, model)]\n",
    "\n",
    "df['vector_string'] = df['ring2vec'].apply(lambda x: ','.join(map(str, x.vec)))\n",
    "# PCE_max(%),PCE_ave(%),Jsc(mA/cm2),FF,Voc(V),HOMO(eV),LUMO(eV),Eg(eV),\n",
    "df_to_save = df[['SMILES','vector_string','PCE_max(%)','PCE_ave(%)','Jsc(mA/cm2)','FF','Voc(V)','HOMO(eV)','LUMO(eV)','Eg(eV)']]\n",
    "\n",
    "df_to_save.to_csv('data/ring2alt_100.csv', index=False)"
   ]
  }
 ],
 "metadata": {
  "anaconda-cloud": {},
  "kernelspec": {
   "display_name": "Python 3",
   "language": "python",
   "name": "python3"
  },
  "language_info": {
   "codemirror_mode": {
    "name": "ipython",
    "version": 3
   },
   "file_extension": ".py",
   "mimetype": "text/x-python",
   "name": "python",
   "nbconvert_exporter": "python",
   "pygments_lexer": "ipython3",
   "version": "3.11.1"
  }
 },
 "nbformat": 4,
 "nbformat_minor": 2
}
